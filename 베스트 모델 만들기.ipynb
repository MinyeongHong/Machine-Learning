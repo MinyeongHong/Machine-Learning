{
 "cells": [
  {
   "cell_type": "code",
   "execution_count": 22,
   "metadata": {},
   "outputs": [
    {
     "name": "stdout",
     "output_type": "stream",
     "text": [
      "<class 'pandas.core.frame.DataFrame'>\n",
      "Int64Index: 1299 entries, 6245 to 4750\n",
      "Data columns (total 13 columns):\n",
      " #   Column  Non-Null Count  Dtype  \n",
      "---  ------  --------------  -----  \n",
      " 0   0       1299 non-null   float64\n",
      " 1   1       1299 non-null   float64\n",
      " 2   2       1299 non-null   float64\n",
      " 3   3       1299 non-null   float64\n",
      " 4   4       1299 non-null   float64\n",
      " 5   5       1299 non-null   float64\n",
      " 6   6       1299 non-null   float64\n",
      " 7   7       1299 non-null   float64\n",
      " 8   8       1299 non-null   float64\n",
      " 9   9       1299 non-null   float64\n",
      " 10  10      1299 non-null   float64\n",
      " 11  11      1299 non-null   int64  \n",
      " 12  12      1299 non-null   int64  \n",
      "dtypes: float64(11), int64(2)\n",
      "memory usage: 142.1 KB\n",
      "None\n"
     ]
    },
    {
     "data": {
      "image/png": "[encoded data removed]",
      "text/plain": [
       "<Figure size 432x288 with 1 Axes>"
      ]
     },
     "metadata": {
      "needs_background": "light"
     },
     "output_type": "display_data"
    },
    {
     "name": "stdout",
     "output_type": "stream",
     "text": [
      "41/41 [==============================] - 0s 1ms/step - loss: 2.0817 - accuracy: 0.7247\n",
      "\n",
      " Accuracy: 0.7444\n"
     ]
    }
   ],
   "source": [
    "#Data : wine.csv \n",
    "from keras.models import Sequential\n",
    "from keras.layers import Dense\n",
    "from keras.callbacks import ModelCheckpoint, EarlyStopping\n",
    "from sklearn.model_selection import train_test_split\n",
    "import os\n",
    "import pandas as pd\n",
    "import numpy\n",
    "import tensorflow as tf\n",
    "import matplotlib.pyplot as plt\n",
    "\n",
    "seed=3\n",
    "numpy.random.seed(seed)\n",
    "tf.random.set_seed(seed)\n",
    "\n",
    "df_pre = pd.read_csv('./dataset/wine.csv',header=None)\n",
    "df = df_pre.sample(frac=0.2) #20%\n",
    "#print(df.head(5))\n",
    "print(df.info())\n",
    "\n",
    "dataset=df.values\n",
    "X=dataset[:,0:12]\n",
    "Y=dataset[:,12]\n",
    "\n",
    "#X_train,X_test, Y_train,Y_test = train_test_split(X,Y, test_size=0.3,random_state=seed)\n",
    "\n",
    "model = Sequential()\n",
    "model.add(Dense(30, input_dim=12,activation='relu'))\n",
    "model.add(Dense(12,activation='relu'))\n",
    "model.add(Dense(8,activation='relu'))\n",
    "model.add(Dense(1,activation='sigmoid'))\n",
    "\n",
    "model.compile(loss='binary_crossentropy',\n",
    "             optimizer = 'adam',\n",
    "             metrics=['accuracy'])\n",
    "\n",
    "#모델 저장하기\n",
    "'''\n",
    "MODEL_DIR = './model/'\n",
    "if not os.path.exists(MODEL_DIR):\n",
    "    os.mkdir(MODEL_DIR)\n",
    "    \n",
    "modelpath='./model/{epoch:02d}-{val_loss:.4f}.hdf5'\n",
    "checkpointer=ModelCheckpoint(filepath=modelpath,monitor='val_loss',verbose=1,save_best_only=True)\n",
    "\n",
    "early_stopping_callback = EarlyStopping(monitor='val_loss',patience=100)\n",
    "\n",
    "\n",
    "history = model.fit(X,Y,validation_split=0.3, epochs=2000,batch_size=200, verbose=0,callbacks=[early_stopping_callback,checkpointer])\n",
    "'''\n",
    "\n",
    "model_vloss=history.history['val_loss']\n",
    "model_acc=history.history['accuracy']\n",
    "\n",
    "x_len=numpy.arange(len(model_acc))\n",
    "plt.plot(x_len,model_vloss,\"o\",c=\"red\",markersize=3)\n",
    "plt.plot(x_len,model_acc,\"o\",c=\"blue\",markersize=3)\n",
    "plt.show()\n",
    "\n",
    "\n",
    "print(\"\\n Accuracy: %.4f\" %(model.evaluate(X,Y)[1]))\n",
    " "
   ]
  },
  {
   "cell_type": "code",
   "execution_count": null,
   "metadata": {},
   "outputs": [],
   "source": []
  },
  {
   "cell_type": "code",
   "execution_count": null,
   "metadata": {},
   "outputs": [],
   "source": []
  }
 ],
 "metadata": {
  "kernelspec": {
   "display_name": "Python 3",
   "language": "python",
   "name": "python3"
  },
  "language_info": {
   "codemirror_mode": {
    "name": "ipython",
    "version": 3
   },
   "file_extension": ".py",
   "mimetype": "text/x-python",
   "name": "python",
   "nbconvert_exporter": "python",
   "pygments_lexer": "ipython3",
   "version": "3.8.5"
  }
 },
 "nbformat": 4,
 "nbformat_minor": 4
}
